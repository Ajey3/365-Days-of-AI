{
  "nbformat": 4,
  "nbformat_minor": 0,
  "metadata": {
    "colab": {
      "provenance": [],
      "authorship_tag": "ABX9TyM5DnQN1Or5f+zyRc1ZKwzm",
      "include_colab_link": true
    },
    "kernelspec": {
      "name": "python3",
      "display_name": "Python 3"
    },
    "language_info": {
      "name": "python"
    }
  },
  "cells": [
    {
      "cell_type": "markdown",
      "metadata": {
        "id": "view-in-github",
        "colab_type": "text"
      },
      "source": [
        "<a href=\"https://colab.research.google.com/github/Ajey3/365-Days-of-AI/blob/main/llmlight.ipynb\" target=\"_parent\"><img src=\"https://colab.research.google.com/assets/colab-badge.svg\" alt=\"Open In Colab\"/></a>"
      ]
    },
    {
      "cell_type": "code",
      "execution_count": null,
      "metadata": {
        "id": "4i7S1WP-FHsg"
      },
      "outputs": [],
      "source": []
    },
    {
      "cell_type": "code",
      "source": [
        "pip install torch torchvision\n"
      ],
      "metadata": {
        "colab": {
          "base_uri": "https://localhost:8080/"
        },
        "id": "AOTriRHlF9lX",
        "outputId": "2ae2d024-e676-4c65-83b7-9bfb22bca73d"
      },
      "execution_count": 4,
      "outputs": [
        {
          "output_type": "stream",
          "name": "stdout",
          "text": [
            "Requirement already satisfied: torch in /usr/local/lib/python3.10/dist-packages (2.5.1+cu121)\n",
            "Requirement already satisfied: torchvision in /usr/local/lib/python3.10/dist-packages (0.20.1+cu121)\n",
            "Requirement already satisfied: filelock in /usr/local/lib/python3.10/dist-packages (from torch) (3.16.1)\n",
            "Requirement already satisfied: typing-extensions>=4.8.0 in /usr/local/lib/python3.10/dist-packages (from torch) (4.12.2)\n",
            "Requirement already satisfied: networkx in /usr/local/lib/python3.10/dist-packages (from torch) (3.4.2)\n",
            "Requirement already satisfied: jinja2 in /usr/local/lib/python3.10/dist-packages (from torch) (3.1.4)\n",
            "Requirement already satisfied: fsspec in /usr/local/lib/python3.10/dist-packages (from torch) (2024.10.0)\n",
            "Requirement already satisfied: sympy==1.13.1 in /usr/local/lib/python3.10/dist-packages (from torch) (1.13.1)\n",
            "Requirement already satisfied: mpmath<1.4,>=1.1.0 in /usr/local/lib/python3.10/dist-packages (from sympy==1.13.1->torch) (1.3.0)\n",
            "Requirement already satisfied: numpy in /usr/local/lib/python3.10/dist-packages (from torchvision) (1.26.4)\n",
            "Requirement already satisfied: pillow!=8.3.*,>=5.3.0 in /usr/local/lib/python3.10/dist-packages (from torchvision) (11.0.0)\n",
            "Requirement already satisfied: MarkupSafe>=2.0 in /usr/local/lib/python3.10/dist-packages (from jinja2->torch) (3.0.2)\n"
          ]
        }
      ]
    },
    {
      "cell_type": "code",
      "source": [
        "import torch\n",
        "import torch.nn as nn\n",
        "import torch.optim as optim\n",
        "import torchvision\n",
        "import torchvision.transforms as transforms\n",
        "import matplotlib.pyplot as plt\n",
        "\n",
        "# Step 1: Load and Preprocess the Data\n",
        "# Download the MNIST dataset and apply transformations\n",
        "transform = transforms.Compose([transforms.ToTensor(), transforms.Normalize((0.5,), (0.5,))])\n",
        "trainset = torchvision.datasets.MNIST(root='./data', train=True, download=True, transform=transform)\n",
        "trainloader = torch.utils.data.DataLoader(trainset, batch_size=64, shuffle=True)\n",
        "\n",
        "# Step 2: Define the Neural Network Model\n",
        "class SimpleNN(nn.Module):\n",
        "    def __init__(self):\n",
        "        super(SimpleNN, self).__init__()\n",
        "        self.fc1 = nn.Linear(28 * 28, 128)  # Input layer to hidden layer\n",
        "        self.fc2 = nn.Linear(128, 64)       # Hidden layer\n",
        "        self.fc3 = nn.Linear(64, 10)        # Output layer (10 classes for 0-9 digits)\n",
        "\n",
        "    def forward(self, x):\n",
        "        x = x.view(-1, 28 * 28)  # Flatten the image\n",
        "        x = torch.relu(self.fc1(x))  # Activation function for hidden layer 1\n",
        "        x = torch.relu(self.fc2(x))  # Activation function for hidden layer 2\n",
        "        x = self.fc3(x)              # Output layer\n",
        "        return x\n",
        "\n",
        "# Step 3: Initialize Model, Loss Function, and Optimizer\n",
        "model = SimpleNN()\n",
        "criterion = nn.CrossEntropyLoss()  # Loss function for classification\n",
        "optimizer = optim.SGD(model.parameters(), lr=0.01)  # Optimizer\n",
        "\n",
        "# Step 4: Train the Model\n",
        "epochs = 5\n",
        "for epoch in range(epochs):\n",
        "    running_loss = 0.0\n",
        "    for images, labels in trainloader:\n",
        "        optimizer.zero_grad()          # Clear gradients\n",
        "        output = model(images)         # Forward pass\n",
        "        loss = criterion(output, labels)  # Compute loss\n",
        "        loss.backward()                # Backward pass\n",
        "        optimizer.step()               # Update weights\n",
        "\n",
        "        running_loss += loss.item()\n",
        "    print(f\"Epoch {epoch + 1}, Loss: {running_loss / len(trainloader)}\")\n",
        "\n",
        "print(\"Training complete!\")\n",
        "\n",
        "# Step 5: Visualize Some Results\n",
        "dataiter = iter(trainloader)\n",
        "images, labels = next(dataiter)  # Change from dataiter.next() to next(dataiter)\n",
        "output = model(images)\n",
        "_, preds = torch.max(output, 1)\n",
        "\n",
        "# Show images with predicted and actual labels\n",
        "fig, axes = plt.subplots(1, 5, figsize=(10, 2))\n",
        "for i in range(5):\n",
        "    axes[i].imshow(images[i].numpy().squeeze(), cmap='gray')\n",
        "    axes[i].set_title(f\"Pred: {preds[i].item()}, True: {labels[i].item()}\")\n",
        "    axes[i].axis('off')\n",
        "plt.show()\n",
        "\n",
        "\n",
        "\n"
      ],
      "metadata": {
        "colab": {
          "base_uri": "https://localhost:8080/",
          "height": 260
        },
        "id": "2qQpx0K-GEap",
        "outputId": "8907c013-6be5-4f46-cb2f-1b2a54223ddf"
      },
      "execution_count": 5,
      "outputs": [
        {
          "output_type": "stream",
          "name": "stdout",
          "text": [
            "Epoch 1, Loss: 1.004737097634944\n",
            "Epoch 2, Loss: 0.37776738338506044\n",
            "Epoch 3, Loss: 0.3219600946171833\n",
            "Epoch 4, Loss: 0.2920578260745194\n",
            "Epoch 5, Loss: 0.26686996129402984\n",
            "Training complete!\n"
          ]
        },
        {
          "output_type": "display_data",
          "data": {
            "text/plain": [
              "<Figure size 1000x200 with 5 Axes>"
            ],
            "image/png": "[encoded data removed]"
          },
          "metadata": {}
        }
      ]
    }
  ]
}